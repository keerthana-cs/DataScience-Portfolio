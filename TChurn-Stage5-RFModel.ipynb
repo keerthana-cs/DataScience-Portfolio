{
 "cells": [
  {
   "cell_type": "code",
   "execution_count": 210,
   "metadata": {},
   "outputs": [],
   "source": [
    "import pandas as pd\n",
    "import numpy as np\n",
    "from sklearn.linear_model import LogisticRegression\n",
    "from sklearn.ensemble import RandomForestClassifier\n",
    "from imblearn.over_sampling import SMOTE\n",
    "from collections import Counter\n",
    "from sklearn.model_selection import GridSearchCV,RandomizedSearchCV,KFold\n",
    "from sklearn.metrics import classification_report,confusion_matrix,accuracy_score,recall_score,precision_score,roc_curve,roc_auc_score\n",
    "\n",
    "from sklearn.model_selection import train_test_split\n",
    "import matplotlib.pyplot as plt\n"
   ]
  },
  {
   "cell_type": "code",
   "execution_count": 211,
   "metadata": {},
   "outputs": [],
   "source": [
    "df= pd.read_csv('Churn3_AFTERSCALE.csv')\n",
    "df.drop('c_State',axis=1,inplace=True) #Dropping state column as it is of least contribution to the model performance"
   ]
  },
  {
   "cell_type": "code",
   "execution_count": 265,
   "metadata": {},
   "outputs": [
    {
     "data": {
      "text/html": [
       "<div>\n",
       "<style scoped>\n",
       "    .dataframe tbody tr th:only-of-type {\n",
       "        vertical-align: middle;\n",
       "    }\n",
       "\n",
       "    .dataframe tbody tr th {\n",
       "        vertical-align: top;\n",
       "    }\n",
       "\n",
       "    .dataframe thead th {\n",
       "        text-align: right;\n",
       "    }\n",
       "</style>\n",
       "<table border=\"1\" class=\"dataframe\">\n",
       "  <thead>\n",
       "    <tr style=\"text-align: right;\">\n",
       "      <th></th>\n",
       "      <th>c_AreaCode</th>\n",
       "      <th>c_InternationalPlan</th>\n",
       "      <th>c_VMailPlan</th>\n",
       "      <th>q_AccountLength</th>\n",
       "      <th>q_CustServCalls</th>\n",
       "      <th>q_DayCalls</th>\n",
       "      <th>q_DayCharge</th>\n",
       "      <th>q_DayMins</th>\n",
       "      <th>q_EveCalls</th>\n",
       "      <th>q_EveCharge</th>\n",
       "      <th>q_EveMins</th>\n",
       "      <th>q_InternationalCharge</th>\n",
       "      <th>q_InternationalMins</th>\n",
       "      <th>q_Internationalcalls</th>\n",
       "      <th>q_NightCalls</th>\n",
       "      <th>q_NightCharge</th>\n",
       "      <th>q_NightMins</th>\n",
       "      <th>q_VMailMessage</th>\n",
       "      <th>y_Churn</th>\n",
       "    </tr>\n",
       "  </thead>\n",
       "  <tbody>\n",
       "    <tr>\n",
       "      <th>0</th>\n",
       "      <td>1</td>\n",
       "      <td>0</td>\n",
       "      <td>1</td>\n",
       "      <td>0.690901</td>\n",
       "      <td>-0.433885</td>\n",
       "      <td>0.500261</td>\n",
       "      <td>45.07</td>\n",
       "      <td>1.568293</td>\n",
       "      <td>-0.059527</td>\n",
       "      <td>16.78</td>\n",
       "      <td>-0.059921</td>\n",
       "      <td>2.70</td>\n",
       "      <td>-0.101301</td>\n",
       "      <td>-0.583487</td>\n",
       "      <td>-0.448712</td>\n",
       "      <td>11.01</td>\n",
       "      <td>0.872135</td>\n",
       "      <td>1.261885</td>\n",
       "      <td>0</td>\n",
       "    </tr>\n",
       "    <tr>\n",
       "      <th>1</th>\n",
       "      <td>1</td>\n",
       "      <td>0</td>\n",
       "      <td>1</td>\n",
       "      <td>0.160503</td>\n",
       "      <td>-0.433885</td>\n",
       "      <td>1.154156</td>\n",
       "      <td>27.47</td>\n",
       "      <td>-0.349166</td>\n",
       "      <td>0.142298</td>\n",
       "      <td>16.62</td>\n",
       "      <td>-0.097506</td>\n",
       "      <td>3.70</td>\n",
       "      <td>1.240707</td>\n",
       "      <td>-0.583487</td>\n",
       "      <td>0.153308</td>\n",
       "      <td>11.45</td>\n",
       "      <td>1.064069</td>\n",
       "      <td>1.335463</td>\n",
       "      <td>0</td>\n",
       "    </tr>\n",
       "    <tr>\n",
       "      <th>2</th>\n",
       "      <td>1</td>\n",
       "      <td>0</td>\n",
       "      <td>0</td>\n",
       "      <td>0.918214</td>\n",
       "      <td>-1.199068</td>\n",
       "      <td>0.701460</td>\n",
       "      <td>41.38</td>\n",
       "      <td>1.166275</td>\n",
       "      <td>0.495492</td>\n",
       "      <td>10.30</td>\n",
       "      <td>-1.567294</td>\n",
       "      <td>3.29</td>\n",
       "      <td>0.696649</td>\n",
       "      <td>0.230398</td>\n",
       "      <td>0.203477</td>\n",
       "      <td>7.32</td>\n",
       "      <td>-0.752381</td>\n",
       "      <td>-0.577587</td>\n",
       "      <td>0</td>\n",
       "    </tr>\n",
       "    <tr>\n",
       "      <th>3</th>\n",
       "      <td>0</td>\n",
       "      <td>1</td>\n",
       "      <td>0</td>\n",
       "      <td>-0.420409</td>\n",
       "      <td>0.331298</td>\n",
       "      <td>-1.461423</td>\n",
       "      <td>50.90</td>\n",
       "      <td>2.203741</td>\n",
       "      <td>-0.614545</td>\n",
       "      <td>5.26</td>\n",
       "      <td>-2.740354</td>\n",
       "      <td>1.78</td>\n",
       "      <td>-1.334498</td>\n",
       "      <td>1.044284</td>\n",
       "      <td>-0.549048</td>\n",
       "      <td>8.86</td>\n",
       "      <td>-0.073686</td>\n",
       "      <td>-0.577587</td>\n",
       "      <td>0</td>\n",
       "    </tr>\n",
       "    <tr>\n",
       "      <th>4</th>\n",
       "      <td>1</td>\n",
       "      <td>1</td>\n",
       "      <td>0</td>\n",
       "      <td>-0.647723</td>\n",
       "      <td>1.096480</td>\n",
       "      <td>0.651160</td>\n",
       "      <td>28.34</td>\n",
       "      <td>-0.254682</td>\n",
       "      <td>1.100966</td>\n",
       "      <td>12.61</td>\n",
       "      <td>-1.031207</td>\n",
       "      <td>2.73</td>\n",
       "      <td>-0.065031</td>\n",
       "      <td>-0.583487</td>\n",
       "      <td>1.056338</td>\n",
       "      <td>8.41</td>\n",
       "      <td>-0.271556</td>\n",
       "      <td>-0.577587</td>\n",
       "      <td>0</td>\n",
       "    </tr>\n",
       "  </tbody>\n",
       "</table>\n",
       "</div>"
      ],
      "text/plain": [
       "   c_AreaCode  c_InternationalPlan  c_VMailPlan  q_AccountLength  \\\n",
       "0           1                    0            1         0.690901   \n",
       "1           1                    0            1         0.160503   \n",
       "2           1                    0            0         0.918214   \n",
       "3           0                    1            0        -0.420409   \n",
       "4           1                    1            0        -0.647723   \n",
       "\n",
       "   q_CustServCalls  q_DayCalls  q_DayCharge  q_DayMins  q_EveCalls  \\\n",
       "0        -0.433885    0.500261        45.07   1.568293   -0.059527   \n",
       "1        -0.433885    1.154156        27.47  -0.349166    0.142298   \n",
       "2        -1.199068    0.701460        41.38   1.166275    0.495492   \n",
       "3         0.331298   -1.461423        50.90   2.203741   -0.614545   \n",
       "4         1.096480    0.651160        28.34  -0.254682    1.100966   \n",
       "\n",
       "   q_EveCharge  q_EveMins  q_InternationalCharge  q_InternationalMins  \\\n",
       "0        16.78  -0.059921                   2.70            -0.101301   \n",
       "1        16.62  -0.097506                   3.70             1.240707   \n",
       "2        10.30  -1.567294                   3.29             0.696649   \n",
       "3         5.26  -2.740354                   1.78            -1.334498   \n",
       "4        12.61  -1.031207                   2.73            -0.065031   \n",
       "\n",
       "   q_Internationalcalls  q_NightCalls  q_NightCharge  q_NightMins  \\\n",
       "0             -0.583487     -0.448712          11.01     0.872135   \n",
       "1             -0.583487      0.153308          11.45     1.064069   \n",
       "2              0.230398      0.203477           7.32    -0.752381   \n",
       "3              1.044284     -0.549048           8.86    -0.073686   \n",
       "4             -0.583487      1.056338           8.41    -0.271556   \n",
       "\n",
       "   q_VMailMessage  y_Churn  \n",
       "0        1.261885        0  \n",
       "1        1.335463        0  \n",
       "2       -0.577587        0  \n",
       "3       -0.577587        0  \n",
       "4       -0.577587        0  "
      ]
     },
     "execution_count": 265,
     "metadata": {},
     "output_type": "execute_result"
    }
   ],
   "source": [
    "df.head()"
   ]
  },
  {
   "cell_type": "code",
   "execution_count": 266,
   "metadata": {},
   "outputs": [
    {
     "data": {
      "text/plain": [
       "1    2299\n",
       "0    1161\n",
       "2    1157\n",
       "Name: c_AreaCode, dtype: int64"
      ]
     },
     "execution_count": 266,
     "metadata": {},
     "output_type": "execute_result"
    }
   ],
   "source": [
    "df.c_AreaCode.value_counts()"
   ]
  },
  {
   "cell_type": "code",
   "execution_count": 213,
   "metadata": {},
   "outputs": [],
   "source": [
    "X = df.drop('y_Churn',axis=1)\n",
    "y=df.y_Churn"
   ]
  },
  {
   "cell_type": "code",
   "execution_count": 214,
   "metadata": {},
   "outputs": [],
   "source": [
    "X_train,X_test,y_train,y_test = train_test_split(X,y,test_size=0.3,random_state=42)"
   ]
  },
  {
   "cell_type": "code",
   "execution_count": 215,
   "metadata": {},
   "outputs": [
    {
     "name": "stdout",
     "output_type": "stream",
     "text": [
      "(3231, 18)\n",
      "(1386, 18)\n",
      "Counter({0: 2771, 1: 460})\n",
      "Counter({0: 1190, 1: 196})\n"
     ]
    }
   ],
   "source": [
    "print(X_train.shape)\n",
    "print(X_test.shape)\n",
    "print(Counter(y_train))\n",
    "print(Counter(y_test))"
   ]
  },
  {
   "cell_type": "code",
   "execution_count": 216,
   "metadata": {},
   "outputs": [],
   "source": [
    "sm = SMOTE(random_state=10)\n",
    "X_train_sm,y_train_sm = sm.fit_sample(X_train,y_train)"
   ]
  },
  {
   "cell_type": "code",
   "execution_count": 217,
   "metadata": {},
   "outputs": [
    {
     "name": "stdout",
     "output_type": "stream",
     "text": [
      "Counter({0: 2771, 1: 2771})\n",
      "Counter({0: 1190, 1: 196})\n"
     ]
    }
   ],
   "source": [
    "# now the chuners and non chuners ratio is same in the output\n",
    "print(Counter(y_train_sm))\n",
    "print(Counter(y_test))"
   ]
  },
  {
   "cell_type": "markdown",
   "metadata": {},
   "source": [
    "## Modeling with Random Forest using optimized hyperparameters from grid search"
   ]
  },
  {
   "cell_type": "code",
   "execution_count": 239,
   "metadata": {},
   "outputs": [
    {
     "data": {
      "text/plain": [
       "RandomForestClassifier(bootstrap=False, class_weight=None,\n",
       "            criterion='entropy', max_depth=None, max_features='auto',\n",
       "            max_leaf_nodes=None, min_impurity_decrease=0.0,\n",
       "            min_impurity_split=None, min_samples_leaf=1,\n",
       "            min_samples_split=2, min_weight_fraction_leaf=0.0,\n",
       "            n_estimators=9, n_jobs=None, oob_score=False, random_state=10,\n",
       "            verbose=0, warm_start=False)"
      ]
     },
     "execution_count": 239,
     "metadata": {},
     "output_type": "execute_result"
    }
   ],
   "source": [
    "model = RandomForestClassifier(n_estimators=9,\n",
    " max_features='auto',\n",
    " criterion='entropy',\n",
    " bootstrap=False,random_state=10)\n",
    "\n",
    "model.fit(X_train_sm,y_train_sm)\n"
   ]
  },
  {
   "cell_type": "code",
   "execution_count": 240,
   "metadata": {},
   "outputs": [],
   "source": [
    "y_pred_rf= model.predict(X_test)"
   ]
  },
  {
   "cell_type": "code",
   "execution_count": 241,
   "metadata": {},
   "outputs": [
    {
     "name": "stdout",
     "output_type": "stream",
     "text": [
      "              precision    recall  f1-score   support\n",
      "\n",
      "           0       0.97      0.98      0.98      1190\n",
      "           1       0.88      0.81      0.84       196\n",
      "\n",
      "   micro avg       0.96      0.96      0.96      1386\n",
      "   macro avg       0.93      0.89      0.91      1386\n",
      "weighted avg       0.96      0.96      0.96      1386\n",
      "\n"
     ]
    }
   ],
   "source": [
    "print(classification_report(y_test,y_pred_rf))"
   ]
  },
  {
   "cell_type": "code",
   "execution_count": 242,
   "metadata": {},
   "outputs": [
    {
     "name": "stdout",
     "output_type": "stream",
     "text": [
      "The recall is: 80.61 %\n",
      "The Precision is: 88.3 %\n",
      "The Accuracy is: 95.743 %\n"
     ]
    }
   ],
   "source": [
    "# got a recall of 82% and precison of 80% at a particular trial\n",
    "print(\"The recall is: {} %\".format(recall_score(y_test,y_pred_rf).round(4)*100))\n",
    "print(\"The Precision is: {} %\".format(precision_score(y_test,y_pred_rf).round(3)*100))\n",
    "print(\"The Accuracy is: {} %\".format(accuracy_score(y_test,y_pred_rf).round(5)*100))"
   ]
  },
  {
   "cell_type": "code",
   "execution_count": 243,
   "metadata": {
    "scrolled": true
   },
   "outputs": [
    {
     "data": {
      "text/plain": [
       "array([[1169,   21],\n",
       "       [  38,  158]])"
      ]
     },
     "execution_count": 243,
     "metadata": {},
     "output_type": "execute_result"
    }
   ],
   "source": [
    "confusion_matrix(y_test,y_pred_rf)"
   ]
  },
  {
   "cell_type": "code",
   "execution_count": 244,
   "metadata": {},
   "outputs": [
    {
     "name": "stdout",
     "output_type": "stream",
     "text": [
      "(1386,)\n",
      "(1386,)\n"
     ]
    }
   ],
   "source": [
    "print(y_test.shape)\n",
    "print(y_pred_rf.shape)"
   ]
  },
  {
   "cell_type": "markdown",
   "metadata": {},
   "source": [
    "## Grid Search Method\n",
    "#### Grid-search is used to find the optimal hyperparameters of the model which results in the most ‘accurate’ predictions."
   ]
  },
  {
   "cell_type": "code",
   "execution_count": 245,
   "metadata": {},
   "outputs": [],
   "source": [
    "params= {'n_estimators':np.arange(1,10),\n",
    "         'criterion': ['entropy','gini'],\n",
    "          'max_features':['auto','sqrt','log2'],\n",
    "         'bootstrap':[True,False]\n",
    "          }"
   ]
  },
  {
   "cell_type": "code",
   "execution_count": 246,
   "metadata": {},
   "outputs": [],
   "source": [
    "model1=RandomForestClassifier(random_state=21)\n",
    "model_cv=RandomizedSearchCV(model1,params,cv=KFold(n_splits=5, random_state=10))\n",
    "#model_cv =GridSearchCV(RandomForestClassifier(),params)"
   ]
  },
  {
   "cell_type": "code",
   "execution_count": 247,
   "metadata": {},
   "outputs": [
    {
     "data": {
      "text/plain": [
       "RandomizedSearchCV(cv=KFold(n_splits=5, random_state=10, shuffle=False),\n",
       "          error_score='raise-deprecating',\n",
       "          estimator=RandomForestClassifier(bootstrap=True, class_weight=None, criterion='gini',\n",
       "            max_depth=None, max_features='auto', max_leaf_nodes=None,\n",
       "            min_impurity_decrease=0.0, min_impurity_split=None,\n",
       "            min_samples_leaf=1, min_samples_split=2,\n",
       "            min_weight_fraction_leaf=0.0, n_estimators='warn', n_jobs=None,\n",
       "            oob_score=False, random_state=21, verbose=0, warm_start=False),\n",
       "          fit_params=None, iid='warn', n_iter=10, n_jobs=None,\n",
       "          param_distributions={'n_estimators': array([1, 2, 3, 4, 5, 6, 7, 8, 9]), 'criterion': ['entropy', 'gini'], 'max_features': ['auto', 'sqrt', 'log2'], 'bootstrap': [True, False]},\n",
       "          pre_dispatch='2*n_jobs', random_state=None, refit=True,\n",
       "          return_train_score='warn', scoring=None, verbose=0)"
      ]
     },
     "execution_count": 247,
     "metadata": {},
     "output_type": "execute_result"
    }
   ],
   "source": [
    "model_cv.fit(X_train_sm,y_train_sm)"
   ]
  },
  {
   "cell_type": "code",
   "execution_count": 248,
   "metadata": {},
   "outputs": [
    {
     "data": {
      "text/plain": [
       "{'n_estimators': 9,\n",
       " 'max_features': 'auto',\n",
       " 'criterion': 'entropy',\n",
       " 'bootstrap': False}"
      ]
     },
     "execution_count": 248,
     "metadata": {},
     "output_type": "execute_result"
    }
   ],
   "source": [
    "model_cv.best_params_"
   ]
  },
  {
   "cell_type": "code",
   "execution_count": 249,
   "metadata": {},
   "outputs": [
    {
     "data": {
      "text/plain": [
       "RandomForestClassifier(bootstrap=False, class_weight=None,\n",
       "            criterion='entropy', max_depth=None, max_features='auto',\n",
       "            max_leaf_nodes=None, min_impurity_decrease=0.0,\n",
       "            min_impurity_split=None, min_samples_leaf=1,\n",
       "            min_samples_split=2, min_weight_fraction_leaf=0.0,\n",
       "            n_estimators=9, n_jobs=None, oob_score=False, random_state=21,\n",
       "            verbose=0, warm_start=False)"
      ]
     },
     "execution_count": 249,
     "metadata": {},
     "output_type": "execute_result"
    }
   ],
   "source": [
    "model_cv.best_estimator_"
   ]
  },
  {
   "cell_type": "code",
   "execution_count": 250,
   "metadata": {},
   "outputs": [
    {
     "data": {
      "text/plain": [
       "0.9644532659689643"
      ]
     },
     "execution_count": 250,
     "metadata": {},
     "output_type": "execute_result"
    }
   ],
   "source": [
    "model_cv.best_score_"
   ]
  },
  {
   "cell_type": "markdown",
   "metadata": {},
   "source": [
    "#### Using Grid search optimization technique and tuning the model with hyperparmeters\n",
    "#### Recall increased from 77% to 81% , Precision from 86% to 88%"
   ]
  },
  {
   "cell_type": "markdown",
   "metadata": {},
   "source": [
    "\n",
    "## ROC CURVE"
   ]
  },
  {
   "cell_type": "code",
   "execution_count": 251,
   "metadata": {},
   "outputs": [
    {
     "data": {
      "text/plain": [
       "array([[0.88888889, 0.11111111],\n",
       "       [1.        , 0.        ],\n",
       "       [1.        , 0.        ],\n",
       "       ...,\n",
       "       [1.        , 0.        ],\n",
       "       [1.        , 0.        ],\n",
       "       [0.77777778, 0.22222222]])"
      ]
     },
     "execution_count": 251,
     "metadata": {},
     "output_type": "execute_result"
    }
   ],
   "source": [
    "#checking for the ROC - CHECK FOR EFFICIENCY OF THE MODEL\n",
    "model.predict_proba(X_test)"
   ]
  },
  {
   "cell_type": "code",
   "execution_count": 252,
   "metadata": {},
   "outputs": [
    {
     "name": "stdout",
     "output_type": "stream",
     "text": [
      "[0.11111111 0.         0.         ... 0.         0.         0.22222222]\n"
     ]
    }
   ],
   "source": [
    "#EXTRACTING ONLY the 2nd column values as it the predict proba values for the churners\n",
    "y_pred_prob=model.predict_proba(X_test)[:,1]\n",
    "print(y_pred_prob)"
   ]
  },
  {
   "cell_type": "code",
   "execution_count": 253,
   "metadata": {},
   "outputs": [],
   "source": [
    "fpr, tpr , thresholds = roc_curve(y_test,y_pred_prob)"
   ]
  },
  {
   "cell_type": "code",
   "execution_count": 254,
   "metadata": {},
   "outputs": [
    {
     "data": {
      "image/png": "[encoded data removed]",
      "text/plain": [
       "<Figure size 432x288 with 1 Axes>"
      ]
     },
     "metadata": {
      "needs_background": "light"
     },
     "output_type": "display_data"
    }
   ],
   "source": [
    "plt.plot(fpr,tpr)\n",
    "plt.xlabel(\"False positive rate\")\n",
    "plt.ylabel(\"True positive rate\")\n",
    "plt.plot([0,1],[0,1],\"--\")\n",
    "plt.show()"
   ]
  },
  {
   "cell_type": "code",
   "execution_count": 255,
   "metadata": {},
   "outputs": [],
   "source": [
    "## The default probabilty threshold is 50% "
   ]
  },
  {
   "cell_type": "code",
   "execution_count": 256,
   "metadata": {},
   "outputs": [],
   "source": [
    "# checking the area under the curve - for a default random model AUC - 0.5 \n",
    "#So, we make sure we get better AUC score for a better performing model"
   ]
  },
  {
   "cell_type": "code",
   "execution_count": 257,
   "metadata": {},
   "outputs": [],
   "source": [
    "auc = roc_auc_score(y_test,y_pred_prob).round(3)*100"
   ]
  },
  {
   "cell_type": "code",
   "execution_count": 258,
   "metadata": {},
   "outputs": [
    {
     "name": "stdout",
     "output_type": "stream",
     "text": [
      "93.4\n"
     ]
    }
   ],
   "source": [
    "print(auc)"
   ]
  },
  {
   "cell_type": "markdown",
   "metadata": {},
   "source": [
    "### From the above result we can see the area under the curve is 93% which indicates the model is pretty good for the predictions further"
   ]
  },
  {
   "cell_type": "code",
   "execution_count": 259,
   "metadata": {},
   "outputs": [],
   "source": [
    "#importances= model.feature_importances_\n",
    "#sort=np.argsort(importances)\n",
    "#label=X.columns[sort]\n"
   ]
  },
  {
   "cell_type": "code",
   "execution_count": 260,
   "metadata": {},
   "outputs": [
    {
     "data": {
      "text/plain": [
       "<matplotlib.axes._subplots.AxesSubplot at 0x1a1f1ab4a8>"
      ]
     },
     "execution_count": 260,
     "metadata": {},
     "output_type": "execute_result"
    },
    {
     "data": {
      "image/png": "[encoded data removed]",
      "text/plain": [
       "<Figure size 720x360 with 1 Axes>"
      ]
     },
     "metadata": {
      "needs_background": "light"
     },
     "output_type": "display_data"
    }
   ],
   "source": [
    "FeatureImp = pd.DataFrame({'Feature':X.columns,'Importance':model.feature_importances_*100})\n",
    "FeatureImportance = FeatureImp.sort_values(by='Importance', axis=0, ascending=False)\n",
    "FeatureImportance.plot(x='Feature',y='Importance',kind='bar',grid=True,title=\"Feature Vs Influence on Model\",\n",
    "            legend = True,figsize = (10,5),)"
   ]
  },
  {
   "cell_type": "markdown",
   "metadata": {},
   "source": [
    "### The above figure shows the feature importances for the particular model and which features drive churn the most"
   ]
  },
  {
   "cell_type": "code",
   "execution_count": 261,
   "metadata": {},
   "outputs": [],
   "source": [
    "from sklearn.externals import joblib"
   ]
  },
  {
   "cell_type": "code",
   "execution_count": 262,
   "metadata": {},
   "outputs": [
    {
     "data": {
      "text/plain": [
       "['Telecom_Churn_Trained_Model.ml']"
      ]
     },
     "execution_count": 262,
     "metadata": {},
     "output_type": "execute_result"
    }
   ],
   "source": [
    "#Saving the entire model into a file\n",
    "joblib.dump(model,'Telecom_Churn_Trained_Model.ml')"
   ]
  },
  {
   "cell_type": "code",
   "execution_count": null,
   "metadata": {},
   "outputs": [],
   "source": []
  }
 ],
 "metadata": {
  "kernelspec": {
   "display_name": "Python 3",
   "language": "python",
   "name": "python3"
  },
  "language_info": {
   "codemirror_mode": {
    "name": "ipython",
    "version": 3
   },
   "file_extension": ".py",
   "mimetype": "text/x-python",
   "name": "python",
   "nbconvert_exporter": "python",
   "pygments_lexer": "ipython3",
   "version": "3.7.3"
  }
 },
 "nbformat": 4,
 "nbformat_minor": 2
}
